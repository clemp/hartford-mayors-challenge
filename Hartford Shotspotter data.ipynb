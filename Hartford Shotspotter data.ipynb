{
 "cells": [
  {
   "cell_type": "code",
   "execution_count": 26,
   "metadata": {
    "collapsed": false
   },
   "outputs": [],
   "source": [
    "import pandas as pd\n",
    "from pygeocoder import Geocoder"
   ]
  },
  {
   "cell_type": "code",
   "execution_count": 19,
   "metadata": {
    "collapsed": true
   },
   "outputs": [],
   "source": [
    "import math\n",
    "\n",
    "# Distance formula\n",
    "def distance(origin, destination):\n",
    "    \"\"\"\n",
    "    Calculate the Haversine distance.\n",
    "\n",
    "    Parameters\n",
    "    ----------\n",
    "    origin : tuple of float\n",
    "        (lat, long)\n",
    "    destination : tuple of float\n",
    "        (lat, long)\n",
    "\n",
    "    Returns\n",
    "    -------\n",
    "    distance_in_km : float\n",
    "\n",
    "    Examples\n",
    "    --------\n",
    "    >>> origin = (48.1372, 11.5756)  # Munich\n",
    "    >>> destination = (52.5186, 13.4083)  # Berlin\n",
    "    >>> round(distance(origin, destination), 1)\n",
    "    504.2\n",
    "    \"\"\"\n",
    "    lat1, lon1 = origin\n",
    "    lat2, lon2 = destination\n",
    "    radius = 6371  # km\n",
    "\n",
    "    dlat = math.radians(lat2 - lat1)\n",
    "    dlon = math.radians(lon2 - lon1)\n",
    "    a = (math.sin(dlat / 2) * math.sin(dlat / 2) +\n",
    "         math.cos(math.radians(lat1)) * math.cos(math.radians(lat2)) *\n",
    "         math.sin(dlon / 2) * math.sin(dlon / 2))\n",
    "    c = 2 * math.atan2(math.sqrt(a), math.sqrt(1 - a))\n",
    "    d = radius * c\n",
    "    \n",
    "    # Convert km to miles\n",
    "    return d * 0.621371\n",
    "\n",
    "\n",
    "if __name__ == '__main__':\n",
    "    import doctest\n",
    "    doctest.testmod()"
   ]
  },
  {
   "cell_type": "code",
   "execution_count": 21,
   "metadata": {
    "collapsed": false
   },
   "outputs": [
    {
     "data": {
      "text/plain": [
       "0.0"
      ]
     },
     "execution_count": 21,
     "metadata": {},
     "output_type": "execute_result"
    }
   ],
   "source": [
    "distance((41.7556818,-72.6650253),(41.7556818,-72.6650253))"
   ]
  },
  {
   "cell_type": "code",
   "execution_count": 32,
   "metadata": {
    "collapsed": false
   },
   "outputs": [
    {
     "data": {
      "text/plain": [
       "(41.7556818, -72.66283659999999)"
      ]
     },
     "execution_count": 32,
     "metadata": {},
     "output_type": "execute_result"
    }
   ],
   "source": [
    "Geocoder.geocode(\"140 Huyshope, Hartford, CT\").coordinates"
   ]
  },
  {
   "cell_type": "code",
   "execution_count": 2,
   "metadata": {
    "collapsed": true
   },
   "outputs": [],
   "source": [
    "df = pd.read_csv('data/Shotspotter_2017.csv')"
   ]
  },
  {
   "cell_type": "code",
   "execution_count": 3,
   "metadata": {
    "collapsed": false
   },
   "outputs": [
    {
     "data": {
      "text/html": [
       "<div>\n",
       "<table border=\"1\" class=\"dataframe\">\n",
       "  <thead>\n",
       "    <tr style=\"text-align: right;\">\n",
       "      <th></th>\n",
       "      <th>Type</th>\n",
       "      <th>ID</th>\n",
       "      <th>Date</th>\n",
       "      <th>Time</th>\n",
       "      <th>Address</th>\n",
       "      <th>Rnds</th>\n",
       "      <th>CAD</th>\n",
       "      <th>Beat</th>\n",
       "      <th>Dist.</th>\n",
       "      <th>Source</th>\n",
       "      <th>Latitude</th>\n",
       "      <th>Longitude</th>\n",
       "      <th>Auto-Acknowledged</th>\n",
       "    </tr>\n",
       "  </thead>\n",
       "  <tbody>\n",
       "    <tr>\n",
       "      <th>0</th>\n",
       "      <td>Other</td>\n",
       "      <td>139665</td>\n",
       "      <td>31-Dec-17</td>\n",
       "      <td>23:59:53</td>\n",
       "      <td>103 Hungerford St</td>\n",
       "      <td>1</td>\n",
       "      <td>NaN</td>\n",
       "      <td>FROG HOLLOW</td>\n",
       "      <td>SOUTH</td>\n",
       "      <td>HartfordCT</td>\n",
       "      <td>41.760582</td>\n",
       "      <td>-72.685976</td>\n",
       "      <td>False</td>\n",
       "    </tr>\n",
       "    <tr>\n",
       "      <th>1</th>\n",
       "      <td>Other</td>\n",
       "      <td>139664</td>\n",
       "      <td>31-Dec-17</td>\n",
       "      <td>23:59:52</td>\n",
       "      <td>103 Hungerford St</td>\n",
       "      <td>1</td>\n",
       "      <td>NaN</td>\n",
       "      <td>FROG HOLLOW</td>\n",
       "      <td>SOUTH</td>\n",
       "      <td>HartfordCT</td>\n",
       "      <td>41.760598</td>\n",
       "      <td>-72.685938</td>\n",
       "      <td>False</td>\n",
       "    </tr>\n",
       "    <tr>\n",
       "      <th>2</th>\n",
       "      <td>Other</td>\n",
       "      <td>139662</td>\n",
       "      <td>31-Dec-17</td>\n",
       "      <td>23:59:09</td>\n",
       "      <td>68 1/2 Wilbur St</td>\n",
       "      <td>37</td>\n",
       "      <td>NaN</td>\n",
       "      <td>SOUTH WEST</td>\n",
       "      <td>SOUTH</td>\n",
       "      <td>HartfordCT</td>\n",
       "      <td>41.734163</td>\n",
       "      <td>-72.710880</td>\n",
       "      <td>False</td>\n",
       "    </tr>\n",
       "    <tr>\n",
       "      <th>3</th>\n",
       "      <td>Other</td>\n",
       "      <td>139658</td>\n",
       "      <td>31-Dec-17</td>\n",
       "      <td>23:57:55</td>\n",
       "      <td>52 Curtiss St</td>\n",
       "      <td>3</td>\n",
       "      <td>NaN</td>\n",
       "      <td>BEHIND THE ROCKS</td>\n",
       "      <td>SOUTH</td>\n",
       "      <td>HartfordCT</td>\n",
       "      <td>41.743730</td>\n",
       "      <td>-72.696512</td>\n",
       "      <td>False</td>\n",
       "    </tr>\n",
       "    <tr>\n",
       "      <th>4</th>\n",
       "      <td>Firecracker</td>\n",
       "      <td>139657</td>\n",
       "      <td>31-Dec-17</td>\n",
       "      <td>23:57:10</td>\n",
       "      <td>44-52 Curtiss St</td>\n",
       "      <td>6</td>\n",
       "      <td>NaN</td>\n",
       "      <td>BEHIND THE ROCKS</td>\n",
       "      <td>SOUTH</td>\n",
       "      <td>HartfordCT</td>\n",
       "      <td>41.743642</td>\n",
       "      <td>-72.696484</td>\n",
       "      <td>False</td>\n",
       "    </tr>\n",
       "  </tbody>\n",
       "</table>\n",
       "</div>"
      ],
      "text/plain": [
       "          Type      ID       Date      Time            Address  Rnds  CAD  \\\n",
       "0        Other  139665  31-Dec-17  23:59:53  103 Hungerford St     1  NaN   \n",
       "1        Other  139664  31-Dec-17  23:59:52  103 Hungerford St     1  NaN   \n",
       "2        Other  139662  31-Dec-17  23:59:09   68 1/2 Wilbur St    37  NaN   \n",
       "3        Other  139658  31-Dec-17  23:57:55      52 Curtiss St     3  NaN   \n",
       "4  Firecracker  139657  31-Dec-17  23:57:10   44-52 Curtiss St     6  NaN   \n",
       "\n",
       "               Beat  Dist.      Source   Latitude  Longitude Auto-Acknowledged  \n",
       "0       FROG HOLLOW  SOUTH  HartfordCT  41.760582 -72.685976             False  \n",
       "1       FROG HOLLOW  SOUTH  HartfordCT  41.760598 -72.685938             False  \n",
       "2        SOUTH WEST  SOUTH  HartfordCT  41.734163 -72.710880             False  \n",
       "3  BEHIND THE ROCKS  SOUTH  HartfordCT  41.743730 -72.696512             False  \n",
       "4  BEHIND THE ROCKS  SOUTH  HartfordCT  41.743642 -72.696484             False  "
      ]
     },
     "execution_count": 3,
     "metadata": {},
     "output_type": "execute_result"
    }
   ],
   "source": [
    "df.head()"
   ]
  },
  {
   "cell_type": "code",
   "execution_count": 9,
   "metadata": {
    "collapsed": false
   },
   "outputs": [
    {
     "data": {
      "text/plain": [
       "array(['Other', 'Firecracker', 'Backfire', 'Helicopter',\n",
       "       'Multiple_Gunshots', 'Gunshot_or_Firecracker', 'Single_Gunshot',\n",
       "       'Construction', 'System_Test'], dtype=object)"
      ]
     },
     "execution_count": 9,
     "metadata": {},
     "output_type": "execute_result"
    }
   ],
   "source": [
    "df['Type'].unique()"
   ]
  },
  {
   "cell_type": "code",
   "execution_count": 16,
   "metadata": {
    "collapsed": false
   },
   "outputs": [
    {
     "data": {
      "text/html": [
       "<div>\n",
       "<table border=\"1\" class=\"dataframe\">\n",
       "  <thead>\n",
       "    <tr style=\"text-align: right;\">\n",
       "      <th></th>\n",
       "      <th>Type</th>\n",
       "      <th>ID</th>\n",
       "      <th>Date</th>\n",
       "      <th>Time</th>\n",
       "      <th>Address</th>\n",
       "      <th>Rnds</th>\n",
       "      <th>CAD</th>\n",
       "      <th>Beat</th>\n",
       "      <th>Dist.</th>\n",
       "      <th>Source</th>\n",
       "      <th>Latitude</th>\n",
       "      <th>Longitude</th>\n",
       "      <th>Auto-Acknowledged</th>\n",
       "    </tr>\n",
       "  </thead>\n",
       "  <tbody>\n",
       "    <tr>\n",
       "      <th>61</th>\n",
       "      <td>Multiple_Gunshots</td>\n",
       "      <td>139437</td>\n",
       "      <td>31-Dec-17</td>\n",
       "      <td>12:52:34</td>\n",
       "      <td>11 Hughes St</td>\n",
       "      <td>7</td>\n",
       "      <td>NaN</td>\n",
       "      <td>BEHIND THE ROCKS</td>\n",
       "      <td>SOUTH</td>\n",
       "      <td>HartfordCT</td>\n",
       "      <td>41.742411</td>\n",
       "      <td>-72.694884</td>\n",
       "      <td>False</td>\n",
       "    </tr>\n",
       "    <tr>\n",
       "      <th>62</th>\n",
       "      <td>Multiple_Gunshots</td>\n",
       "      <td>139436</td>\n",
       "      <td>31-Dec-17</td>\n",
       "      <td>3:55:10</td>\n",
       "      <td>166-174 Homestead Ave</td>\n",
       "      <td>3</td>\n",
       "      <td>NaN</td>\n",
       "      <td>UPPER ALBANY</td>\n",
       "      <td>NORTH</td>\n",
       "      <td>HartfordCT</td>\n",
       "      <td>41.777432</td>\n",
       "      <td>-72.693924</td>\n",
       "      <td>False</td>\n",
       "    </tr>\n",
       "    <tr>\n",
       "      <th>63</th>\n",
       "      <td>Multiple_Gunshots</td>\n",
       "      <td>139435</td>\n",
       "      <td>31-Dec-17</td>\n",
       "      <td>3:04:44</td>\n",
       "      <td>22 Elliott St</td>\n",
       "      <td>9</td>\n",
       "      <td>NaN</td>\n",
       "      <td>BARRY SQUARE</td>\n",
       "      <td>SOUTH</td>\n",
       "      <td>HartfordCT</td>\n",
       "      <td>41.746350</td>\n",
       "      <td>-72.674764</td>\n",
       "      <td>False</td>\n",
       "    </tr>\n",
       "    <tr>\n",
       "      <th>65</th>\n",
       "      <td>Multiple_Gunshots</td>\n",
       "      <td>139433</td>\n",
       "      <td>31-Dec-17</td>\n",
       "      <td>3:03:21</td>\n",
       "      <td>17 Elliott St</td>\n",
       "      <td>6</td>\n",
       "      <td>NaN</td>\n",
       "      <td>BARRY SQUARE</td>\n",
       "      <td>SOUTH</td>\n",
       "      <td>HartfordCT</td>\n",
       "      <td>41.746356</td>\n",
       "      <td>-72.673573</td>\n",
       "      <td>False</td>\n",
       "    </tr>\n",
       "    <tr>\n",
       "      <th>67</th>\n",
       "      <td>Multiple_Gunshots</td>\n",
       "      <td>139430</td>\n",
       "      <td>31-Dec-17</td>\n",
       "      <td>2:00:32</td>\n",
       "      <td>67 Mapleton St</td>\n",
       "      <td>2</td>\n",
       "      <td>NaN</td>\n",
       "      <td>BARRY SQUARE</td>\n",
       "      <td>SOUTH</td>\n",
       "      <td>HartfordCT</td>\n",
       "      <td>41.738804</td>\n",
       "      <td>-72.687796</td>\n",
       "      <td>False</td>\n",
       "    </tr>\n",
       "  </tbody>\n",
       "</table>\n",
       "</div>"
      ],
      "text/plain": [
       "                 Type      ID       Date      Time                Address  \\\n",
       "61  Multiple_Gunshots  139437  31-Dec-17  12:52:34           11 Hughes St   \n",
       "62  Multiple_Gunshots  139436  31-Dec-17   3:55:10  166-174 Homestead Ave   \n",
       "63  Multiple_Gunshots  139435  31-Dec-17   3:04:44          22 Elliott St   \n",
       "65  Multiple_Gunshots  139433  31-Dec-17   3:03:21          17 Elliott St   \n",
       "67  Multiple_Gunshots  139430  31-Dec-17   2:00:32         67 Mapleton St   \n",
       "\n",
       "    Rnds  CAD              Beat  Dist.      Source   Latitude  Longitude  \\\n",
       "61     7  NaN  BEHIND THE ROCKS  SOUTH  HartfordCT  41.742411 -72.694884   \n",
       "62     3  NaN      UPPER ALBANY  NORTH  HartfordCT  41.777432 -72.693924   \n",
       "63     9  NaN      BARRY SQUARE  SOUTH  HartfordCT  41.746350 -72.674764   \n",
       "65     6  NaN      BARRY SQUARE  SOUTH  HartfordCT  41.746356 -72.673573   \n",
       "67     2  NaN      BARRY SQUARE  SOUTH  HartfordCT  41.738804 -72.687796   \n",
       "\n",
       "   Auto-Acknowledged  \n",
       "61             False  \n",
       "62             False  \n",
       "63             False  \n",
       "65             False  \n",
       "67             False  "
      ]
     },
     "execution_count": 16,
     "metadata": {},
     "output_type": "execute_result"
    }
   ],
   "source": [
    "# Filter data to include only confirmed gunshots\n",
    "df_shots = df[df['Type'].isin(['Single_Gunshot', 'Multiple_Gunshots'])]\n",
    "df_shots.head()"
   ]
  }
 ],
 "metadata": {
  "kernelspec": {
   "display_name": "Python 3",
   "language": "python",
   "name": "python3"
  },
  "language_info": {
   "codemirror_mode": {
    "name": "ipython",
    "version": 3
   },
   "file_extension": ".py",
   "mimetype": "text/x-python",
   "name": "python",
   "nbconvert_exporter": "python",
   "pygments_lexer": "ipython3",
   "version": "3.6.0"
  }
 },
 "nbformat": 4,
 "nbformat_minor": 2
}
