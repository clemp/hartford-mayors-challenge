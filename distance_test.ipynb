{
 "cells": [
  {
   "cell_type": "code",
   "execution_count": 5,
   "metadata": {},
   "outputs": [],
   "source": [
    "import pandas as pd\n",
    "from pygeocoder import Geocoder\n",
    "import math\n",
    "\n",
    "file = 'C:\\\\Users\\\\prave\\\\PycharmProjects\\\\upstartHartford\\\\hartford-mayors-challenge\\\\data\\\\test_data.xlsx'\n",
    "addresses = pd.read_excel(file, sheet_name='addresses')\n",
    "events = pd.read_excel(file, sheet_name='events')"
   ]
  },
  {
   "cell_type": "code",
   "execution_count": 6,
   "metadata": {},
   "outputs": [],
   "source": [
    "\n",
    "# Distance formula\n",
    "def distance(origin, destination):\n",
    "    \"\"\"\n",
    "    Calculate the Haversine distance.\n",
    "\n",
    "    Parameters\n",
    "    ----------\n",
    "    origin : tuple of float\n",
    "        (lat, long)\n",
    "    destination : tuple of float\n",
    "        (lat, long)\n",
    "\n",
    "    Returns\n",
    "    -------\n",
    "    distance_in_km : float\n",
    "\n",
    "    Examples\n",
    "    --------\n",
    "    >>> origin = (48.1372, 11.5756)  # Munich\n",
    "    >>> destination = (52.5186, 13.4083)  # Berlin\n",
    "    >>> round(distance(origin, destination), 1)\n",
    "    504.2\n",
    "    \"\"\"\n",
    "    lat1, lon1 = origin\n",
    "    lat2, lon2 = destination\n",
    "    radius = 6371  # km\n",
    "\n",
    "    dlat = math.radians(lat2 - lat1)\n",
    "    dlon = math.radians(lon2 - lon1)\n",
    "    a = (math.sin(dlat / 2) * math.sin(dlat / 2) +\n",
    "         math.cos(math.radians(lat1)) * math.cos(math.radians(lat2)) *\n",
    "         math.sin(dlon / 2) * math.sin(dlon / 2))\n",
    "    c = 2 * math.atan2(math.sqrt(a), math.sqrt(1 - a))\n",
    "    d = radius * c\n",
    "    \n",
    "    # Convert km to miles\n",
    "    return d * 0.621371"
   ]
  },
  {
   "cell_type": "code",
   "execution_count": 12,
   "metadata": {},
   "outputs": [],
   "source": [
    "events['coordinates'] = events['Address'].apply(lambda x: Geocoder.geocode(\"{}, Hartford, CT\".format(x)).coordinates)\n",
    "addresses['coordinates'] = addresses['Address'].apply(lambda x: Geocoder.geocode(\"{}, Hartford, CT\".format(x)).coordinates)"
   ]
  },
  {
   "cell_type": "code",
   "execution_count": 14,
   "metadata": {},
   "outputs": [
    {
     "data": {
      "text/html": [
       "<div>\n",
       "<style scoped>\n",
       "    .dataframe tbody tr th:only-of-type {\n",
       "        vertical-align: middle;\n",
       "    }\n",
       "\n",
       "    .dataframe tbody tr th {\n",
       "        vertical-align: top;\n",
       "    }\n",
       "\n",
       "    .dataframe thead th {\n",
       "        text-align: right;\n",
       "    }\n",
       "</style>\n",
       "<table border=\"1\" class=\"dataframe\">\n",
       "  <thead>\n",
       "    <tr style=\"text-align: right;\">\n",
       "      <th></th>\n",
       "      <th>Name</th>\n",
       "      <th>Address</th>\n",
       "      <th>coordinates</th>\n",
       "    </tr>\n",
       "  </thead>\n",
       "  <tbody>\n",
       "    <tr>\n",
       "      <th>0</th>\n",
       "      <td>John Doe</td>\n",
       "      <td>20 Ellsworth</td>\n",
       "      <td>(41.7723132, -72.6470619)</td>\n",
       "    </tr>\n",
       "    <tr>\n",
       "      <th>1</th>\n",
       "      <td>Jane Doe</td>\n",
       "      <td>45 School St</td>\n",
       "      <td>(41.7474386, -72.68565389999999)</td>\n",
       "    </tr>\n",
       "  </tbody>\n",
       "</table>\n",
       "</div>"
      ],
      "text/plain": [
       "       Name       Address                       coordinates\n",
       "0  John Doe  20 Ellsworth         (41.7723132, -72.6470619)\n",
       "1  Jane Doe  45 School St  (41.7474386, -72.68565389999999)"
      ]
     },
     "execution_count": 14,
     "metadata": {},
     "output_type": "execute_result"
    }
   ],
   "source": [
    "addresses.head()"
   ]
  },
  {
   "cell_type": "code",
   "execution_count": 31,
   "metadata": {},
   "outputs": [
    {
     "name": "stdout",
     "output_type": "stream",
     "text": [
      "108 Ledyard - 20 Ellsworth 2.164  miles\n",
      "108 Ledyard - 45 School St 0.808  miles\n",
      "69 Crown - 45 School St 0.256  miles\n"
     ]
    }
   ],
   "source": [
    "n = events.shape[0]\n",
    "m = addresses.shape[0]\n",
    "\n",
    "threshold = 2.5\n",
    "for i in range(n):\n",
    "    for j in range(m):\n",
    "        origin = events.iloc[i]['coordinates']\n",
    "        origin_name = events.iloc[i]['Address']\n",
    "        destination_coordinate = addresses.iloc[j]['coordinates']\n",
    "        destination_name = addresses.iloc[j]['Address']\n",
    "        distance_calc = distance(origin, destination_coordinate)\n",
    "        if distance_calc<threshold:\n",
    "            print(origin_name, '-', destination_name, round(distance_calc, 3), ' miles')"
   ]
  },
  {
   "cell_type": "code",
   "execution_count": null,
   "metadata": {},
   "outputs": [],
   "source": []
  }
 ],
 "metadata": {
  "kernelspec": {
   "display_name": "Python 3",
   "language": "python",
   "name": "python3"
  },
  "language_info": {
   "codemirror_mode": {
    "name": "ipython",
    "version": 3
   },
   "file_extension": ".py",
   "mimetype": "text/x-python",
   "name": "python",
   "nbconvert_exporter": "python",
   "pygments_lexer": "ipython3",
   "version": "3.6.5"
  }
 },
 "nbformat": 4,
 "nbformat_minor": 2
}
